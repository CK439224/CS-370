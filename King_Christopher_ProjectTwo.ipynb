{
 "cells": [
  {
   "cell_type": "markdown",
   "metadata": {},
   "source": [
    "# Treasure Hunt Game Notebook\n",
    "\n",
    "## Read and Review Your Starter Code\n",
    "The theme of this project is a popular treasure hunt game in which the player needs to find the treasure before the pirate does. While you will not be developing the entire game, you will write the part of the game that represents the intelligent agent, which is a pirate in this case. The pirate will try to find the optimal path to the treasure using deep Q-learning. \n",
    "\n",
    "You have been provided with two Python classes and this notebook to help you with this assignment. The first class, TreasureMaze.py, represents the environment, which includes a maze object defined as a matrix. The second class, GameExperience.py, stores the episodes – that is, all the states that come in between the initial state and the terminal state. This is later used by the agent for learning by experience, called \"exploration\". This notebook shows how to play a game. Your task is to complete the deep Q-learning implementation for which a skeleton implementation has been provided. The code blocks you will need to complete has #TODO as a header.\n",
    "\n",
    "First, read and review the next few code and instruction blocks to understand the code that you have been given."
   ]
  },
  {
   "cell_type": "code",
   "execution_count": 34,
   "metadata": {},
   "outputs": [],
   "source": [
    "from __future__ import print_function\n",
    "import os, sys, time, datetime, json, random\n",
    "import numpy as np\n",
    "from keras.models import Sequential\n",
    "from keras.layers.core import Dense, Activation\n",
    "from keras.optimizers import SGD , Adam, RMSprop\n",
    "from keras.layers.advanced_activations import PReLU\n",
    "import matplotlib.pyplot as plt\n",
    "from TreasureMaze import TreasureMaze\n",
    "from GameExperience import GameExperience\n",
    "%matplotlib inline"
   ]
  },
  {
   "cell_type": "markdown",
   "metadata": {},
   "source": [
    "The following code block contains an 8x8 matrix that will be used as a maze object:"
   ]
  },
  {
   "cell_type": "code",
   "execution_count": 35,
   "metadata": {},
   "outputs": [],
   "source": [
    "maze = np.array([\n",
    "    [ 1.,  0.,  1.,  1.,  1.,  1.,  1.,  1.],\n",
    "    [ 1.,  0.,  1.,  1.,  1.,  0.,  1.,  1.],\n",
    "    [ 1.,  1.,  1.,  1.,  0.,  1.,  0.,  1.],\n",
    "    [ 1.,  1.,  1.,  0.,  1.,  1.,  1.,  1.],\n",
    "    [ 1.,  1.,  0.,  1.,  1.,  1.,  1.,  1.],\n",
    "    [ 1.,  1.,  1.,  0.,  1.,  0.,  0.,  0.],\n",
    "    [ 1.,  1.,  1.,  0.,  1.,  1.,  1.,  1.],\n",
    "    [ 1.,  1.,  1.,  1.,  0.,  1.,  1.,  1.]\n",
    "])"
   ]
  },
  {
   "cell_type": "markdown",
   "metadata": {},
   "source": [
    "This helper function allows a visual representation of the maze object:"
   ]
  },
  {
   "cell_type": "code",
   "execution_count": 36,
   "metadata": {},
   "outputs": [],
   "source": [
    "def show(qmaze):\n",
    "    plt.grid('on')\n",
    "    nrows, ncols = qmaze.maze.shape\n",
    "    ax = plt.gca()\n",
    "    ax.set_xticks(np.arange(0.5, nrows, 1))\n",
    "    ax.set_yticks(np.arange(0.5, ncols, 1))\n",
    "    ax.set_xticklabels([])\n",
    "    ax.set_yticklabels([])\n",
    "    canvas = np.copy(qmaze.maze)\n",
    "    for row,col in qmaze.visited:\n",
    "        canvas[row,col] = 0.6\n",
    "    pirate_row, pirate_col, _ = qmaze.state\n",
    "    canvas[pirate_row, pirate_col] = 0.3   # pirate cell\n",
    "    canvas[nrows-1, ncols-1] = 0.9 # treasure cell\n",
    "    img = plt.imshow(canvas, interpolation='none', cmap='gray')\n",
    "    return img"
   ]
  },
  {
   "cell_type": "markdown",
   "metadata": {},
   "source": [
    "The pirate agent can move in four directions: left, right, up, and down. \n",
    "\n",
    "While the agent primarily learns by experience through exploitation, often, the agent can choose to explore the environment to find previously undiscovered paths. This is called \"exploration\" and is defined by epsilon. This value is typically a lower value such as 0.1, which means for every ten attempts, the agent will attempt to learn by experience nine times and will randomly explore a new path one time. You are encouraged to try various values for the exploration factor and see how the algorithm performs."
   ]
  },
  {
   "cell_type": "code",
   "execution_count": 37,
   "metadata": {},
   "outputs": [],
   "source": [
    "LEFT = 0\n",
    "UP = 1\n",
    "RIGHT = 2\n",
    "DOWN = 3\n",
    "\n",
    "\n",
    "# Exploration factor\n",
    "epsilon = 0.1\n",
    "\n",
    "# Actions dictionary\n",
    "actions_dict = {\n",
    "    LEFT: 'left',\n",
    "    UP: 'up',\n",
    "    RIGHT: 'right',\n",
    "    DOWN: 'down',\n",
    "}\n",
    "\n",
    "num_actions = len(actions_dict)\n"
   ]
  },
  {
   "cell_type": "markdown",
   "metadata": {},
   "source": [
    "The sample code block and output below show creating a maze object and performing one action (DOWN), which returns the reward. The resulting updated environment is visualized."
   ]
  },
  {
   "cell_type": "code",
   "execution_count": 38,
   "metadata": {},
   "outputs": [
    {
     "name": "stdout",
     "output_type": "stream",
     "text": [
      "reward= -0.04\n"
     ]
    },
    {
     "data": {
      "text/plain": [
       "<matplotlib.image.AxesImage at 0x200df4f5ac8>"
      ]
     },
     "execution_count": 38,
     "metadata": {},
     "output_type": "execute_result"
    },
    {
     "data": {
      "image/png": "[encoded data removed]",
      "text/plain": [
       "<Figure size 432x288 with 1 Axes>"
      ]
     },
     "metadata": {
      "needs_background": "light"
     },
     "output_type": "display_data"
    }
   ],
   "source": [
    "qmaze = TreasureMaze(maze)\n",
    "canvas, reward, game_over = qmaze.act(DOWN)\n",
    "print(\"reward=\", reward)\n",
    "show(qmaze)"
   ]
  },
  {
   "cell_type": "markdown",
   "metadata": {},
   "source": [
    "This function simulates a full game based on the provided trained model. The other parameters include the TreasureMaze object and the starting position of the pirate."
   ]
  },
  {
   "cell_type": "code",
   "execution_count": 39,
   "metadata": {},
   "outputs": [],
   "source": [
    "def play_game(model, qmaze, pirate_cell):\n",
    "    qmaze.reset(pirate_cell)\n",
    "    envstate = qmaze.observe()\n",
    "    while True:\n",
    "        prev_envstate = envstate\n",
    "        # get next action\n",
    "        q = model.predict(prev_envstate)\n",
    "        action = np.argmax(q[0])\n",
    "\n",
    "        # apply action, get rewards and new state\n",
    "        envstate, reward, game_status = qmaze.act(action)\n",
    "        if game_status == 'win':\n",
    "            return True\n",
    "        elif game_status == 'lose':\n",
    "            return False"
   ]
  },
  {
   "cell_type": "markdown",
   "metadata": {},
   "source": [
    "This function helps you to determine whether the pirate can win any game at all. If your maze is not well designed, the pirate may not win any game at all. In this case, your training would not yield any result. The provided maze in this notebook ensures that there is a path to win and you can run this method to check."
   ]
  },
  {
   "cell_type": "code",
   "execution_count": 40,
   "metadata": {},
   "outputs": [],
   "source": [
    "def completion_check(model, qmaze):\n",
    "    for cell in qmaze.free_cells:\n",
    "        if not qmaze.valid_actions(cell):\n",
    "            return False\n",
    "        if not play_game(model, qmaze, cell):\n",
    "            return False\n",
    "    return True"
   ]
  },
  {
   "cell_type": "markdown",
   "metadata": {},
   "source": [
    "The code you have been given in this block will build the neural network model. Review the code and note the number of layers, as well as the activation, optimizer, and loss functions that are used to train the model."
   ]
  },
  {
   "cell_type": "code",
   "execution_count": 41,
   "metadata": {},
   "outputs": [],
   "source": [
    "def build_model(maze):\n",
    "    model = Sequential()\n",
    "    model.add(Dense(maze.size, input_shape=(maze.size,)))\n",
    "    model.add(PReLU())\n",
    "    model.add(Dense(maze.size))\n",
    "    model.add(PReLU())\n",
    "    model.add(Dense(num_actions))\n",
    "    model.compile(optimizer='adam', loss='mse')\n",
    "    return model"
   ]
  },
  {
   "cell_type": "markdown",
   "metadata": {},
   "source": [
    "# #TODO: Complete the Q-Training Algorithm Code Block\n",
    "\n",
    "This is your deep Q-learning implementation. The goal of your deep Q-learning implementation is to find the best possible navigation sequence that results in reaching the treasure cell while maximizing the reward. In your implementation, you need to determine the optimal number of epochs to achieve a 100% win rate.\n",
    "\n",
    "You will need to complete the section starting with #pseudocode. The pseudocode has been included for you."
   ]
  },
  {
   "cell_type": "code",
   "execution_count": 42,
   "metadata": {},
   "outputs": [],
   "source": [
    "def qtrain(model, maze, **opt):\n",
    "\n",
    "    # exploration factor\n",
    "    global epsilon \n",
    "\n",
    "    # number of epochs\n",
    "    n_epoch = opt.get('n_epoch', 15000)\n",
    "\n",
    "    # maximum memory to store episodes\n",
    "    max_memory = opt.get('max_memory', 1000)\n",
    "\n",
    "    # maximum data size for training\n",
    "    data_size = opt.get('data_size', 50)\n",
    "\n",
    "    # start time\n",
    "    start_time = datetime.datetime.now()\n",
    "\n",
    "    # Construct environment/game from numpy array: maze (see above)\n",
    "    qmaze = TreasureMaze(maze)\n",
    "\n",
    "    # Initialize experience replay object\n",
    "    experience = GameExperience(model, max_memory=max_memory)\n",
    "    \n",
    "    win_history = []   # history of win/lose game\n",
    "    hsize = qmaze.maze.size//2   # history window size\n",
    "    win_rate = 0.0\n",
    "    \n",
    "    # pseudocode:\n",
    "    # For each epoch:\n",
    "    #    Agent_cell = randomly select a free cell\n",
    "    #    Reset the maze with agent set to above position\n",
    "    #    Hint: Review the reset method in the TreasureMaze.py class.\n",
    "    #    envstate = Environment.current_state\n",
    "    #    Hint: Review the observe method in the TreasureMaze.py class.\n",
    "    #    While state is not game over:\n",
    "    #        previous_envstate = envstate\n",
    "    #        Action = randomly choose action (left, right, up, down) either by exploration or by exploitation\n",
    "    #        envstate, reward, game_status = qmaze.act(action)\n",
    "    #    Hint: Review the act method in the TreasureMaze.py class.\n",
    "    #        episode = [previous_envstate, action, reward, envstate, game_status]\n",
    "    #        Store episode in Experience replay object\n",
    "    #    Hint: Review the remember method in the GameExperience.py class.\n",
    "    #        Train neural network model and evaluate loss\n",
    "    #    Hint: Call GameExperience.get_data to retrieve training data (input and target) and pass to model.fit method \n",
    "    #          to train the model. You can call model.evaluate to determine loss.\n",
    "    #    If the win rate is above the threshold and your model passes the completion check, that would be your epoch.\n",
    "    \n",
    "       \n",
    "\n",
    "    for epoch in range(n_epoch):\n",
    "        agent_cell = random.choice(qmaze.free_cells)\n",
    "        qmaze.reset(agent_cell)\n",
    "        envstate = qmaze.observe()\n",
    "        \n",
    "        n_episodes = 0\n",
    "        loss = 0.0\n",
    "        \n",
    "        while qmaze.game_status() == 'not_over':\n",
    "            prev_envstate = envstate\n",
    "            \n",
    "            if np.random.rand() < epsilon:\n",
    "                action = random.choice(qmaze.valid_actions())\n",
    "            else:\n",
    "                q_values = model.predict(prev_envstate)\n",
    "                action = np.argmax(q_values[0])\n",
    "            \n",
    "            envstate, reward, game_status = qmaze.act(action)\n",
    "            episode = [prev_envstate, action, reward, envstate, game_status]\n",
    "            experience.remember(episode)\n",
    "            inputs, targets = experience.get_data(data_size=data_size)\n",
    "            \n",
    "            h = model.fit(inputs, targets, epochs=8, batch_size=16, verbose=0)\n",
    "            loss = model.evaluate(inputs, targets, verbose=0)\n",
    "            \n",
    "            n_episodes += 1\n",
    "        \n",
    "        if game_status == 'win':\n",
    "            win_history.append(1)\n",
    "        else:\n",
    "            win_history.append(0)\n",
    "        \n",
    "        if len(win_history) > hsize:\n",
    "            win_history = win_history[-hsize:]\n",
    "        \n",
    "        win_rate = sum(win_history) / len(win_history)\n",
    "        \n",
    "        dt = datetime.datetime.now() - start_time\n",
    "        t = format_time(dt.total_seconds())\n",
    "        template = \"Epoch: {:03d}/{:d} | Loss: {:.4f} | Episodes: {:d} | Win count: {:d} | Win rate: {:.3f} | time: {}\"\n",
    "        print(template.format(epoch, n_epoch-1, loss, n_episodes, sum(win_history), win_rate, t))\n",
    "        \n",
    "        if win_rate > 0.9:\n",
    "            epsilon = 0.05\n",
    "        if sum(win_history[-hsize:]) == hsize and completion_check(model, qmaze):\n",
    "            print(\"Reached 100%% win rate at epoch: %d\" % (epoch,))\n",
    "            break\n",
    "    \n",
    "    # Determine the total time for training\n",
    "    dt = datetime.datetime.now() - start_time\n",
    "    seconds = dt.total_seconds()\n",
    "    t = format_time(seconds)\n",
    "\n",
    "    print(\"n_epoch: %d, max_mem: %d, data: %d, time: %s\" % (epoch, max_memory, data_size, t))\n",
    "    return seconds\n",
    "\n",
    "# This is a small utility for printing readable time strings:\n",
    "def format_time(seconds):\n",
    "    if seconds < 400:\n",
    "        s = float(seconds)\n",
    "        return \"%.1f seconds\" % (s,)\n",
    "    elif seconds < 4000:\n",
    "        m = seconds / 60.0\n",
    "        return \"%.2f minutes\" % (m,)\n",
    "    else:\n",
    "        h = seconds / 3600.0\n",
    "        return \"%.2f hours\" % (h,)"
   ]
  },
  {
   "cell_type": "markdown",
   "metadata": {},
   "source": [
    "## Test Your Model\n",
    "\n",
    "Now we will start testing the deep Q-learning implementation. To begin, select **Cell**, then **Run All** from the menu bar. This will run your notebook. As it runs, you should see output begin to appear beneath the next few cells. The code below creates an instance of TreasureMaze."
   ]
  },
  {
   "cell_type": "code",
   "execution_count": 43,
   "metadata": {},
   "outputs": [
    {
     "data": {
      "text/plain": [
       "<matplotlib.image.AxesImage at 0x200df7d8548>"
      ]
     },
     "execution_count": 43,
     "metadata": {},
     "output_type": "execute_result"
    },
    {
     "data": {
      "image/png": "[encoded data removed]",
      "text/plain": [
       "<Figure size 432x288 with 1 Axes>"
      ]
     },
     "metadata": {
      "needs_background": "light"
     },
     "output_type": "display_data"
    }
   ],
   "source": [
    "qmaze = TreasureMaze(maze)\n",
    "show(qmaze)"
   ]
  },
  {
   "cell_type": "markdown",
   "metadata": {},
   "source": [
    "In the next code block, you will build your model and train it using deep Q-learning. Note: This step takes several minutes to fully run."
   ]
  },
  {
   "cell_type": "code",
   "execution_count": 44,
   "metadata": {},
   "outputs": [
    {
     "name": "stdout",
     "output_type": "stream",
     "text": [
      "Epoch: 000/14999 | Loss: 0.0008 | Episodes: 142 | Win count: 0 | Win rate: 0.000 | time: 23.3 seconds\n",
      "Epoch: 001/14999 | Loss: 0.0005 | Episodes: 129 | Win count: 1 | Win rate: 0.500 | time: 47.4 seconds\n",
      "Epoch: 002/14999 | Loss: 0.0012 | Episodes: 27 | Win count: 2 | Win rate: 0.667 | time: 52.4 seconds\n",
      "Epoch: 003/14999 | Loss: 0.0008 | Episodes: 138 | Win count: 2 | Win rate: 0.500 | time: 78.0 seconds\n",
      "Epoch: 004/14999 | Loss: 0.0008 | Episodes: 135 | Win count: 2 | Win rate: 0.400 | time: 100.2 seconds\n",
      "Epoch: 005/14999 | Loss: 0.0010 | Episodes: 79 | Win count: 3 | Win rate: 0.500 | time: 113.9 seconds\n",
      "Epoch: 006/14999 | Loss: 0.0008 | Episodes: 33 | Win count: 4 | Win rate: 0.571 | time: 119.3 seconds\n",
      "Epoch: 007/14999 | Loss: 0.0008 | Episodes: 51 | Win count: 5 | Win rate: 0.625 | time: 128.8 seconds\n",
      "Epoch: 008/14999 | Loss: 0.0014 | Episodes: 151 | Win count: 5 | Win rate: 0.556 | time: 157.1 seconds\n",
      "Epoch: 009/14999 | Loss: 0.0014 | Episodes: 54 | Win count: 6 | Win rate: 0.600 | time: 166.7 seconds\n",
      "Epoch: 010/14999 | Loss: 0.0014 | Episodes: 7 | Win count: 7 | Win rate: 0.636 | time: 168.0 seconds\n",
      "Epoch: 011/14999 | Loss: 0.0006 | Episodes: 20 | Win count: 8 | Win rate: 0.667 | time: 171.9 seconds\n",
      "Epoch: 012/14999 | Loss: 0.0014 | Episodes: 26 | Win count: 9 | Win rate: 0.692 | time: 176.7 seconds\n",
      "Epoch: 013/14999 | Loss: 0.0011 | Episodes: 44 | Win count: 10 | Win rate: 0.714 | time: 184.6 seconds\n",
      "Epoch: 014/14999 | Loss: 0.0018 | Episodes: 17 | Win count: 11 | Win rate: 0.733 | time: 187.5 seconds\n",
      "Epoch: 015/14999 | Loss: 0.0009 | Episodes: 9 | Win count: 12 | Win rate: 0.750 | time: 188.9 seconds\n",
      "Epoch: 016/14999 | Loss: 0.0010 | Episodes: 21 | Win count: 13 | Win rate: 0.765 | time: 192.9 seconds\n",
      "Epoch: 017/14999 | Loss: 0.0010 | Episodes: 44 | Win count: 14 | Win rate: 0.778 | time: 201.1 seconds\n",
      "Epoch: 018/14999 | Loss: 0.0015 | Episodes: 20 | Win count: 15 | Win rate: 0.789 | time: 205.2 seconds\n",
      "Epoch: 019/14999 | Loss: 0.0011 | Episodes: 71 | Win count: 16 | Win rate: 0.800 | time: 217.9 seconds\n",
      "Epoch: 020/14999 | Loss: 0.0007 | Episodes: 1 | Win count: 17 | Win rate: 0.810 | time: 218.0 seconds\n",
      "Epoch: 021/14999 | Loss: 0.0010 | Episodes: 19 | Win count: 18 | Win rate: 0.818 | time: 221.2 seconds\n",
      "Epoch: 022/14999 | Loss: 0.0016 | Episodes: 30 | Win count: 19 | Win rate: 0.826 | time: 226.7 seconds\n",
      "Epoch: 023/14999 | Loss: 0.0012 | Episodes: 12 | Win count: 20 | Win rate: 0.833 | time: 228.7 seconds\n",
      "Epoch: 024/14999 | Loss: 0.0020 | Episodes: 10 | Win count: 21 | Win rate: 0.840 | time: 230.5 seconds\n",
      "Epoch: 025/14999 | Loss: 0.0013 | Episodes: 9 | Win count: 22 | Win rate: 0.846 | time: 232.1 seconds\n",
      "Epoch: 026/14999 | Loss: 0.0014 | Episodes: 13 | Win count: 23 | Win rate: 0.852 | time: 234.4 seconds\n",
      "Epoch: 027/14999 | Loss: 0.0012 | Episodes: 9 | Win count: 24 | Win rate: 0.857 | time: 236.1 seconds\n",
      "Epoch: 028/14999 | Loss: 0.0012 | Episodes: 5 | Win count: 25 | Win rate: 0.862 | time: 236.8 seconds\n",
      "Epoch: 029/14999 | Loss: 0.0009 | Episodes: 27 | Win count: 26 | Win rate: 0.867 | time: 241.9 seconds\n",
      "Epoch: 030/14999 | Loss: 0.0005 | Episodes: 50 | Win count: 27 | Win rate: 0.871 | time: 250.9 seconds\n",
      "Epoch: 031/14999 | Loss: 0.0008 | Episodes: 33 | Win count: 28 | Win rate: 0.875 | time: 257.1 seconds\n",
      "Epoch: 032/14999 | Loss: 0.0017 | Episodes: 23 | Win count: 29 | Win rate: 0.906 | time: 261.4 seconds\n",
      "Epoch: 033/14999 | Loss: 0.0010 | Episodes: 32 | Win count: 29 | Win rate: 0.906 | time: 267.7 seconds\n",
      "Epoch: 034/14999 | Loss: 0.0009 | Episodes: 1 | Win count: 29 | Win rate: 0.906 | time: 267.9 seconds\n",
      "Epoch: 035/14999 | Loss: 0.0009 | Episodes: 6 | Win count: 30 | Win rate: 0.938 | time: 269.1 seconds\n",
      "Epoch: 036/14999 | Loss: 0.0003 | Episodes: 21 | Win count: 31 | Win rate: 0.969 | time: 273.2 seconds\n",
      "Epoch: 037/14999 | Loss: 0.0008 | Episodes: 23 | Win count: 31 | Win rate: 0.969 | time: 277.2 seconds\n",
      "Epoch: 038/14999 | Loss: 0.0012 | Episodes: 32 | Win count: 31 | Win rate: 0.969 | time: 283.1 seconds\n",
      "Epoch: 039/14999 | Loss: 0.0005 | Episodes: 11 | Win count: 31 | Win rate: 0.969 | time: 285.0 seconds\n",
      "Epoch: 040/14999 | Loss: 0.0011 | Episodes: 32 | Win count: 32 | Win rate: 1.000 | time: 290.8 seconds\n",
      "Epoch: 041/14999 | Loss: 0.0005 | Episodes: 30 | Win count: 32 | Win rate: 1.000 | time: 297.1 seconds\n",
      "Epoch: 042/14999 | Loss: 0.0009 | Episodes: 7 | Win count: 32 | Win rate: 1.000 | time: 298.4 seconds\n",
      "Epoch: 043/14999 | Loss: 0.0005 | Episodes: 41 | Win count: 32 | Win rate: 1.000 | time: 305.8 seconds\n",
      "Epoch: 044/14999 | Loss: 0.0004 | Episodes: 40 | Win count: 32 | Win rate: 1.000 | time: 313.2 seconds\n",
      "Epoch: 045/14999 | Loss: 0.0003 | Episodes: 1 | Win count: 32 | Win rate: 1.000 | time: 313.5 seconds\n",
      "Epoch: 046/14999 | Loss: 0.0008 | Episodes: 53 | Win count: 32 | Win rate: 1.000 | time: 323.9 seconds\n",
      "Epoch: 047/14999 | Loss: 0.0006 | Episodes: 20 | Win count: 32 | Win rate: 1.000 | time: 327.5 seconds\n",
      "Epoch: 048/14999 | Loss: 0.0007 | Episodes: 19 | Win count: 32 | Win rate: 1.000 | time: 331.3 seconds\n",
      "Epoch: 049/14999 | Loss: 0.0010 | Episodes: 29 | Win count: 32 | Win rate: 1.000 | time: 337.0 seconds\n",
      "Epoch: 050/14999 | Loss: 0.0005 | Episodes: 9 | Win count: 32 | Win rate: 1.000 | time: 339.1 seconds\n",
      "Epoch: 051/14999 | Loss: 0.0007 | Episodes: 52 | Win count: 32 | Win rate: 1.000 | time: 348.7 seconds\n",
      "Epoch: 052/14999 | Loss: 0.0006 | Episodes: 2 | Win count: 32 | Win rate: 1.000 | time: 349.2 seconds\n",
      "Epoch: 053/14999 | Loss: 0.0007 | Episodes: 11 | Win count: 32 | Win rate: 1.000 | time: 351.7 seconds\n",
      "Epoch: 054/14999 | Loss: 0.0005 | Episodes: 9 | Win count: 32 | Win rate: 1.000 | time: 353.6 seconds\n",
      "Epoch: 055/14999 | Loss: 0.0007 | Episodes: 32 | Win count: 32 | Win rate: 1.000 | time: 359.2 seconds\n",
      "Epoch: 056/14999 | Loss: 0.0007 | Episodes: 2 | Win count: 32 | Win rate: 1.000 | time: 359.6 seconds\n",
      "Epoch: 057/14999 | Loss: 0.0007 | Episodes: 19 | Win count: 32 | Win rate: 1.000 | time: 363.1 seconds\n",
      "Epoch: 058/14999 | Loss: 0.0009 | Episodes: 6 | Win count: 32 | Win rate: 1.000 | time: 364.5 seconds\n",
      "Epoch: 059/14999 | Loss: 0.0007 | Episodes: 22 | Win count: 32 | Win rate: 1.000 | time: 369.4 seconds\n",
      "Epoch: 060/14999 | Loss: 0.0005 | Episodes: 27 | Win count: 32 | Win rate: 1.000 | time: 374.6 seconds\n",
      "Epoch: 061/14999 | Loss: 0.0001 | Episodes: 2 | Win count: 32 | Win rate: 1.000 | time: 375.1 seconds\n",
      "Epoch: 062/14999 | Loss: 0.0014 | Episodes: 3 | Win count: 32 | Win rate: 1.000 | time: 375.8 seconds\n",
      "Epoch: 063/14999 | Loss: 0.0005 | Episodes: 13 | Win count: 32 | Win rate: 1.000 | time: 378.5 seconds\n",
      "Epoch: 064/14999 | Loss: 0.0003 | Episodes: 5 | Win count: 32 | Win rate: 1.000 | time: 379.9 seconds\n",
      "Epoch: 065/14999 | Loss: 0.0005 | Episodes: 64 | Win count: 32 | Win rate: 1.000 | time: 391.2 seconds\n",
      "Epoch: 066/14999 | Loss: 0.0011 | Episodes: 23 | Win count: 32 | Win rate: 1.000 | time: 395.1 seconds\n",
      "Epoch: 067/14999 | Loss: 0.0003 | Episodes: 14 | Win count: 32 | Win rate: 1.000 | time: 397.3 seconds\n",
      "Epoch: 068/14999 | Loss: 0.0002 | Episodes: 22 | Win count: 32 | Win rate: 1.000 | time: 6.70 minutes\n",
      "Epoch: 069/14999 | Loss: 0.0004 | Episodes: 24 | Win count: 32 | Win rate: 1.000 | time: 6.77 minutes\n",
      "Epoch: 070/14999 | Loss: 0.0007 | Episodes: 5 | Win count: 32 | Win rate: 1.000 | time: 6.79 minutes\n",
      "Epoch: 071/14999 | Loss: 0.0005 | Episodes: 3 | Win count: 32 | Win rate: 1.000 | time: 6.81 minutes\n",
      "Epoch: 072/14999 | Loss: 0.0010 | Episodes: 71 | Win count: 32 | Win rate: 1.000 | time: 7.03 minutes\n",
      "Epoch: 073/14999 | Loss: 0.0004 | Episodes: 20 | Win count: 32 | Win rate: 1.000 | time: 7.10 minutes\n",
      "Epoch: 074/14999 | Loss: 0.0005 | Episodes: 34 | Win count: 32 | Win rate: 1.000 | time: 7.20 minutes\n",
      "Epoch: 075/14999 | Loss: 0.0005 | Episodes: 23 | Win count: 32 | Win rate: 1.000 | time: 7.27 minutes\n",
      "Epoch: 076/14999 | Loss: 0.0006 | Episodes: 4 | Win count: 32 | Win rate: 1.000 | time: 7.30 minutes\n",
      "Epoch: 077/14999 | Loss: 0.0006 | Episodes: 66 | Win count: 32 | Win rate: 1.000 | time: 7.50 minutes\n",
      "Epoch: 078/14999 | Loss: 0.0001 | Episodes: 37 | Win count: 32 | Win rate: 1.000 | time: 7.61 minutes\n",
      "Epoch: 079/14999 | Loss: 0.0005 | Episodes: 16 | Win count: 32 | Win rate: 1.000 | time: 7.67 minutes\n",
      "Epoch: 080/14999 | Loss: 0.0004 | Episodes: 28 | Win count: 32 | Win rate: 1.000 | time: 7.77 minutes\n",
      "Epoch: 081/14999 | Loss: 0.0004 | Episodes: 14 | Win count: 32 | Win rate: 1.000 | time: 7.82 minutes\n",
      "Epoch: 082/14999 | Loss: 0.0007 | Episodes: 36 | Win count: 32 | Win rate: 1.000 | time: 7.95 minutes\n",
      "Epoch: 083/14999 | Loss: 0.0002 | Episodes: 9 | Win count: 32 | Win rate: 1.000 | time: 7.99 minutes\n",
      "Epoch: 084/14999 | Loss: 0.0004 | Episodes: 23 | Win count: 32 | Win rate: 1.000 | time: 8.07 minutes\n",
      "Epoch: 085/14999 | Loss: 0.0005 | Episodes: 25 | Win count: 32 | Win rate: 1.000 | time: 8.14 minutes\n",
      "Epoch: 086/14999 | Loss: 0.0007 | Episodes: 8 | Win count: 32 | Win rate: 1.000 | time: 8.17 minutes\n",
      "Epoch: 087/14999 | Loss: 0.0000 | Episodes: 143 | Win count: 32 | Win rate: 1.000 | time: 8.63 minutes\n",
      "Epoch: 088/14999 | Loss: 0.0003 | Episodes: 7 | Win count: 32 | Win rate: 1.000 | time: 8.65 minutes\n",
      "Epoch: 089/14999 | Loss: 0.0001 | Episodes: 12 | Win count: 32 | Win rate: 1.000 | time: 8.69 minutes\n",
      "Epoch: 090/14999 | Loss: 0.0003 | Episodes: 8 | Win count: 32 | Win rate: 1.000 | time: 8.71 minutes\n",
      "Epoch: 091/14999 | Loss: 0.0002 | Episodes: 103 | Win count: 32 | Win rate: 1.000 | time: 9.04 minutes\n",
      "Epoch: 092/14999 | Loss: 0.0001 | Episodes: 31 | Win count: 32 | Win rate: 1.000 | time: 9.13 minutes\n",
      "Epoch: 093/14999 | Loss: 0.0003 | Episodes: 20 | Win count: 32 | Win rate: 1.000 | time: 9.19 minutes\n",
      "Epoch: 094/14999 | Loss: 0.0003 | Episodes: 14 | Win count: 32 | Win rate: 1.000 | time: 9.23 minutes\n",
      "Epoch: 095/14999 | Loss: 0.0006 | Episodes: 15 | Win count: 32 | Win rate: 1.000 | time: 9.27 minutes\n",
      "Epoch: 096/14999 | Loss: 0.0003 | Episodes: 29 | Win count: 32 | Win rate: 1.000 | time: 9.37 minutes\n",
      "Epoch: 097/14999 | Loss: 0.0001 | Episodes: 29 | Win count: 32 | Win rate: 1.000 | time: 9.47 minutes\n",
      "Epoch: 098/14999 | Loss: 0.0001 | Episodes: 19 | Win count: 32 | Win rate: 1.000 | time: 9.53 minutes\n",
      "Epoch: 099/14999 | Loss: 0.0001 | Episodes: 60 | Win count: 32 | Win rate: 1.000 | time: 9.71 minutes\n",
      "Epoch: 100/14999 | Loss: 0.0003 | Episodes: 41 | Win count: 32 | Win rate: 1.000 | time: 9.85 minutes\n",
      "Epoch: 101/14999 | Loss: 0.0006 | Episodes: 17 | Win count: 32 | Win rate: 1.000 | time: 9.90 minutes\n",
      "Epoch: 102/14999 | Loss: 0.0003 | Episodes: 23 | Win count: 32 | Win rate: 1.000 | time: 9.98 minutes\n",
      "Epoch: 103/14999 | Loss: 0.0001 | Episodes: 7 | Win count: 32 | Win rate: 1.000 | time: 10.00 minutes\n",
      "Epoch: 104/14999 | Loss: 0.0003 | Episodes: 14 | Win count: 32 | Win rate: 1.000 | time: 10.04 minutes\n",
      "Epoch: 105/14999 | Loss: 0.0005 | Episodes: 29 | Win count: 32 | Win rate: 1.000 | time: 10.14 minutes\n",
      "Epoch: 106/14999 | Loss: 0.0002 | Episodes: 4 | Win count: 32 | Win rate: 1.000 | time: 10.15 minutes\n",
      "Epoch: 107/14999 | Loss: 0.0005 | Episodes: 33 | Win count: 32 | Win rate: 1.000 | time: 10.25 minutes\n",
      "Epoch: 108/14999 | Loss: 0.0001 | Episodes: 6 | Win count: 32 | Win rate: 1.000 | time: 10.28 minutes\n",
      "Epoch: 109/14999 | Loss: 0.0002 | Episodes: 33 | Win count: 32 | Win rate: 1.000 | time: 10.38 minutes\n",
      "Epoch: 110/14999 | Loss: 0.0001 | Episodes: 5 | Win count: 32 | Win rate: 1.000 | time: 10.39 minutes\n",
      "Epoch: 111/14999 | Loss: 0.0001 | Episodes: 19 | Win count: 32 | Win rate: 1.000 | time: 10.45 minutes\n",
      "Epoch: 112/14999 | Loss: 0.0000 | Episodes: 16 | Win count: 32 | Win rate: 1.000 | time: 10.50 minutes\n",
      "Epoch: 113/14999 | Loss: 0.0002 | Episodes: 22 | Win count: 32 | Win rate: 1.000 | time: 10.57 minutes\n",
      "Epoch: 114/14999 | Loss: 0.0001 | Episodes: 1 | Win count: 32 | Win rate: 1.000 | time: 10.57 minutes\n",
      "Epoch: 115/14999 | Loss: 0.0003 | Episodes: 8 | Win count: 32 | Win rate: 1.000 | time: 10.60 minutes\n",
      "Epoch: 116/14999 | Loss: 0.0001 | Episodes: 12 | Win count: 32 | Win rate: 1.000 | time: 10.64 minutes\n",
      "Epoch: 117/14999 | Loss: 0.0004 | Episodes: 72 | Win count: 32 | Win rate: 1.000 | time: 10.87 minutes\n",
      "Epoch: 118/14999 | Loss: 0.0004 | Episodes: 27 | Win count: 32 | Win rate: 1.000 | time: 10.95 minutes\n",
      "Epoch: 119/14999 | Loss: 0.0005 | Episodes: 31 | Win count: 32 | Win rate: 1.000 | time: 11.04 minutes\n",
      "Epoch: 120/14999 | Loss: 0.0003 | Episodes: 33 | Win count: 32 | Win rate: 1.000 | time: 11.14 minutes\n",
      "Epoch: 121/14999 | Loss: 0.0003 | Episodes: 34 | Win count: 32 | Win rate: 1.000 | time: 11.25 minutes\n",
      "Epoch: 122/14999 | Loss: 0.0009 | Episodes: 2 | Win count: 32 | Win rate: 1.000 | time: 11.26 minutes\n",
      "Epoch: 123/14999 | Loss: 0.0009 | Episodes: 20 | Win count: 32 | Win rate: 1.000 | time: 11.33 minutes\n",
      "Epoch: 124/14999 | Loss: 0.0003 | Episodes: 2 | Win count: 32 | Win rate: 1.000 | time: 11.34 minutes\n",
      "Epoch: 125/14999 | Loss: 0.0000 | Episodes: 3 | Win count: 32 | Win rate: 1.000 | time: 11.35 minutes\n",
      "Epoch: 126/14999 | Loss: 0.0004 | Episodes: 21 | Win count: 32 | Win rate: 1.000 | time: 11.41 minutes\n",
      "Epoch: 127/14999 | Loss: 0.0001 | Episodes: 1 | Win count: 32 | Win rate: 1.000 | time: 11.42 minutes\n",
      "Epoch: 128/14999 | Loss: 0.0002 | Episodes: 23 | Win count: 32 | Win rate: 1.000 | time: 11.50 minutes\n",
      "Epoch: 129/14999 | Loss: 0.0006 | Episodes: 1 | Win count: 32 | Win rate: 1.000 | time: 11.50 minutes\n",
      "Epoch: 130/14999 | Loss: 0.0006 | Episodes: 6 | Win count: 32 | Win rate: 1.000 | time: 11.52 minutes\n",
      "Epoch: 131/14999 | Loss: 0.0002 | Episodes: 18 | Win count: 32 | Win rate: 1.000 | time: 11.57 minutes\n",
      "Epoch: 132/14999 | Loss: 0.0007 | Episodes: 25 | Win count: 32 | Win rate: 1.000 | time: 11.64 minutes\n",
      "Epoch: 133/14999 | Loss: 0.0003 | Episodes: 29 | Win count: 32 | Win rate: 1.000 | time: 11.74 minutes\n",
      "Epoch: 134/14999 | Loss: 0.0003 | Episodes: 24 | Win count: 32 | Win rate: 1.000 | time: 11.80 minutes\n",
      "Epoch: 135/14999 | Loss: 0.0004 | Episodes: 7 | Win count: 32 | Win rate: 1.000 | time: 11.82 minutes\n",
      "Epoch: 136/14999 | Loss: 0.0004 | Episodes: 26 | Win count: 32 | Win rate: 1.000 | time: 11.89 minutes\n",
      "Epoch: 137/14999 | Loss: 0.0001 | Episodes: 21 | Win count: 32 | Win rate: 1.000 | time: 11.95 minutes\n",
      "Epoch: 138/14999 | Loss: 0.0003 | Episodes: 17 | Win count: 32 | Win rate: 1.000 | time: 12.01 minutes\n",
      "Epoch: 139/14999 | Loss: 0.0003 | Episodes: 25 | Win count: 32 | Win rate: 1.000 | time: 12.08 minutes\n",
      "Epoch: 140/14999 | Loss: 0.0005 | Episodes: 23 | Win count: 32 | Win rate: 1.000 | time: 12.14 minutes\n",
      "Epoch: 141/14999 | Loss: 0.0004 | Episodes: 29 | Win count: 32 | Win rate: 1.000 | time: 12.23 minutes\n",
      "Epoch: 142/14999 | Loss: 0.0001 | Episodes: 19 | Win count: 32 | Win rate: 1.000 | time: 12.29 minutes\n",
      "Epoch: 143/14999 | Loss: 0.0005 | Episodes: 23 | Win count: 32 | Win rate: 1.000 | time: 12.37 minutes\n",
      "Epoch: 144/14999 | Loss: 0.0007 | Episodes: 32 | Win count: 32 | Win rate: 1.000 | time: 12.48 minutes\n",
      "Epoch: 145/14999 | Loss: 0.0005 | Episodes: 22 | Win count: 32 | Win rate: 1.000 | time: 12.55 minutes\n",
      "Epoch: 146/14999 | Loss: 0.0001 | Episodes: 41 | Win count: 32 | Win rate: 1.000 | time: 12.67 minutes\n",
      "Epoch: 147/14999 | Loss: 0.0003 | Episodes: 33 | Win count: 32 | Win rate: 1.000 | time: 12.78 minutes\n",
      "Epoch: 148/14999 | Loss: 0.0003 | Episodes: 45 | Win count: 32 | Win rate: 1.000 | time: 12.93 minutes\n",
      "Epoch: 149/14999 | Loss: 0.0002 | Episodes: 29 | Win count: 32 | Win rate: 1.000 | time: 13.02 minutes\n",
      "Epoch: 150/14999 | Loss: 0.0002 | Episodes: 13 | Win count: 32 | Win rate: 1.000 | time: 13.06 minutes\n",
      "Epoch: 151/14999 | Loss: 0.0002 | Episodes: 27 | Win count: 32 | Win rate: 1.000 | time: 13.15 minutes\n",
      "Epoch: 152/14999 | Loss: 0.0003 | Episodes: 36 | Win count: 32 | Win rate: 1.000 | time: 13.27 minutes\n",
      "Epoch: 153/14999 | Loss: 0.0007 | Episodes: 60 | Win count: 32 | Win rate: 1.000 | time: 13.45 minutes\n",
      "Epoch: 154/14999 | Loss: 0.0011 | Episodes: 1 | Win count: 32 | Win rate: 1.000 | time: 13.45 minutes\n",
      "Epoch: 155/14999 | Loss: 0.0005 | Episodes: 20 | Win count: 32 | Win rate: 1.000 | time: 13.51 minutes\n",
      "Epoch: 156/14999 | Loss: 0.0005 | Episodes: 9 | Win count: 32 | Win rate: 1.000 | time: 13.54 minutes\n",
      "Epoch: 157/14999 | Loss: 0.0002 | Episodes: 17 | Win count: 32 | Win rate: 1.000 | time: 13.59 minutes\n",
      "Epoch: 158/14999 | Loss: 0.0007 | Episodes: 24 | Win count: 32 | Win rate: 1.000 | time: 13.66 minutes\n",
      "Epoch: 159/14999 | Loss: 0.0001 | Episodes: 12 | Win count: 32 | Win rate: 1.000 | time: 13.70 minutes\n",
      "Epoch: 160/14999 | Loss: 0.0010 | Episodes: 25 | Win count: 32 | Win rate: 1.000 | time: 13.77 minutes\n",
      "Epoch: 161/14999 | Loss: 0.0007 | Episodes: 4 | Win count: 32 | Win rate: 1.000 | time: 13.78 minutes\n",
      "Epoch: 162/14999 | Loss: 0.0001 | Episodes: 8 | Win count: 32 | Win rate: 1.000 | time: 13.81 minutes\n",
      "Epoch: 163/14999 | Loss: 0.0005 | Episodes: 21 | Win count: 32 | Win rate: 1.000 | time: 13.87 minutes\n",
      "Epoch: 164/14999 | Loss: 0.0004 | Episodes: 30 | Win count: 32 | Win rate: 1.000 | time: 13.97 minutes\n",
      "Epoch: 165/14999 | Loss: 0.0005 | Episodes: 5 | Win count: 32 | Win rate: 1.000 | time: 13.98 minutes\n",
      "Epoch: 166/14999 | Loss: 0.0002 | Episodes: 2 | Win count: 32 | Win rate: 1.000 | time: 13.99 minutes\n",
      "Epoch: 167/14999 | Loss: 0.0004 | Episodes: 28 | Win count: 32 | Win rate: 1.000 | time: 14.08 minutes\n",
      "Epoch: 168/14999 | Loss: 0.0009 | Episodes: 34 | Win count: 32 | Win rate: 1.000 | time: 14.19 minutes\n",
      "Epoch: 169/14999 | Loss: 0.0001 | Episodes: 26 | Win count: 32 | Win rate: 1.000 | time: 14.27 minutes\n",
      "Epoch: 170/14999 | Loss: 0.0004 | Episodes: 2 | Win count: 32 | Win rate: 1.000 | time: 14.28 minutes\n",
      "Epoch: 171/14999 | Loss: 0.0001 | Episodes: 9 | Win count: 32 | Win rate: 1.000 | time: 14.32 minutes\n",
      "Epoch: 172/14999 | Loss: 0.0005 | Episodes: 25 | Win count: 32 | Win rate: 1.000 | time: 14.40 minutes\n",
      "Epoch: 173/14999 | Loss: 0.0005 | Episodes: 4 | Win count: 32 | Win rate: 1.000 | time: 14.42 minutes\n",
      "Epoch: 174/14999 | Loss: 0.0004 | Episodes: 14 | Win count: 32 | Win rate: 1.000 | time: 14.46 minutes\n",
      "Epoch: 175/14999 | Loss: 0.0003 | Episodes: 20 | Win count: 32 | Win rate: 1.000 | time: 14.52 minutes\n",
      "Epoch: 176/14999 | Loss: 0.0003 | Episodes: 10 | Win count: 32 | Win rate: 1.000 | time: 14.56 minutes\n",
      "Epoch: 177/14999 | Loss: 0.0007 | Episodes: 27 | Win count: 32 | Win rate: 1.000 | time: 14.65 minutes\n",
      "Epoch: 178/14999 | Loss: 0.0007 | Episodes: 62 | Win count: 32 | Win rate: 1.000 | time: 14.85 minutes\n",
      "Epoch: 179/14999 | Loss: 0.0007 | Episodes: 80 | Win count: 32 | Win rate: 1.000 | time: 15.10 minutes\n",
      "Epoch: 180/14999 | Loss: 0.0002 | Episodes: 13 | Win count: 32 | Win rate: 1.000 | time: 15.14 minutes\n",
      "Epoch: 181/14999 | Loss: 0.0001 | Episodes: 20 | Win count: 32 | Win rate: 1.000 | time: 15.21 minutes\n",
      "Epoch: 182/14999 | Loss: 0.0001 | Episodes: 4 | Win count: 32 | Win rate: 1.000 | time: 15.23 minutes\n",
      "Epoch: 183/14999 | Loss: 0.0005 | Episodes: 3 | Win count: 32 | Win rate: 1.000 | time: 15.25 minutes\n",
      "Epoch: 184/14999 | Loss: 0.0000 | Episodes: 11 | Win count: 32 | Win rate: 1.000 | time: 15.30 minutes\n",
      "Epoch: 185/14999 | Loss: 0.0000 | Episodes: 17 | Win count: 32 | Win rate: 1.000 | time: 15.36 minutes\n",
      "Epoch: 186/14999 | Loss: 0.0001 | Episodes: 13 | Win count: 32 | Win rate: 1.000 | time: 15.41 minutes\n",
      "Epoch: 187/14999 | Loss: 0.0004 | Episodes: 21 | Win count: 32 | Win rate: 1.000 | time: 15.49 minutes\n",
      "Epoch: 188/14999 | Loss: 0.0000 | Episodes: 22 | Win count: 32 | Win rate: 1.000 | time: 15.56 minutes\n",
      "Epoch: 189/14999 | Loss: 0.0003 | Episodes: 35 | Win count: 32 | Win rate: 1.000 | time: 15.67 minutes\n",
      "Epoch: 190/14999 | Loss: 0.0001 | Episodes: 22 | Win count: 32 | Win rate: 1.000 | time: 15.74 minutes\n",
      "Epoch: 191/14999 | Loss: 0.0001 | Episodes: 9 | Win count: 32 | Win rate: 1.000 | time: 15.77 minutes\n",
      "Epoch: 192/14999 | Loss: 0.0001 | Episodes: 16 | Win count: 32 | Win rate: 1.000 | time: 15.83 minutes\n",
      "Epoch: 193/14999 | Loss: 0.0006 | Episodes: 4 | Win count: 32 | Win rate: 1.000 | time: 15.85 minutes\n",
      "Epoch: 194/14999 | Loss: 0.0001 | Episodes: 35 | Win count: 32 | Win rate: 1.000 | time: 15.96 minutes\n",
      "Epoch: 195/14999 | Loss: 0.0003 | Episodes: 17 | Win count: 32 | Win rate: 1.000 | time: 16.02 minutes\n",
      "Epoch: 196/14999 | Loss: 0.0001 | Episodes: 12 | Win count: 32 | Win rate: 1.000 | time: 16.07 minutes\n",
      "Epoch: 197/14999 | Loss: 0.0000 | Episodes: 22 | Win count: 32 | Win rate: 1.000 | time: 16.13 minutes\n",
      "Epoch: 198/14999 | Loss: 0.0009 | Episodes: 15 | Win count: 32 | Win rate: 1.000 | time: 16.18 minutes\n",
      "Epoch: 199/14999 | Loss: 0.0000 | Episodes: 27 | Win count: 32 | Win rate: 1.000 | time: 16.26 minutes\n",
      "Epoch: 200/14999 | Loss: 0.0001 | Episodes: 25 | Win count: 32 | Win rate: 1.000 | time: 16.35 minutes\n",
      "Epoch: 201/14999 | Loss: 0.0006 | Episodes: 29 | Win count: 32 | Win rate: 1.000 | time: 16.45 minutes\n",
      "Epoch: 202/14999 | Loss: 0.0006 | Episodes: 2 | Win count: 32 | Win rate: 1.000 | time: 16.45 minutes\n",
      "Epoch: 203/14999 | Loss: 0.0004 | Episodes: 32 | Win count: 32 | Win rate: 1.000 | time: 16.55 minutes\n",
      "Epoch: 204/14999 | Loss: 0.0006 | Episodes: 12 | Win count: 32 | Win rate: 1.000 | time: 16.60 minutes\n",
      "Epoch: 205/14999 | Loss: 0.0009 | Episodes: 12 | Win count: 32 | Win rate: 1.000 | time: 16.63 minutes\n",
      "Epoch: 206/14999 | Loss: 0.0001 | Episodes: 15 | Win count: 32 | Win rate: 1.000 | time: 16.67 minutes\n",
      "Epoch: 207/14999 | Loss: 0.0003 | Episodes: 23 | Win count: 32 | Win rate: 1.000 | time: 16.74 minutes\n",
      "Epoch: 208/14999 | Loss: 0.0001 | Episodes: 10 | Win count: 32 | Win rate: 1.000 | time: 16.78 minutes\n",
      "Epoch: 209/14999 | Loss: 0.0004 | Episodes: 32 | Win count: 32 | Win rate: 1.000 | time: 16.88 minutes\n",
      "Epoch: 210/14999 | Loss: 0.0006 | Episodes: 34 | Win count: 32 | Win rate: 1.000 | time: 16.99 minutes\n",
      "Epoch: 211/14999 | Loss: 0.0000 | Episodes: 26 | Win count: 32 | Win rate: 1.000 | time: 17.07 minutes\n",
      "Epoch: 212/14999 | Loss: 0.0007 | Episodes: 31 | Win count: 32 | Win rate: 1.000 | time: 17.17 minutes\n",
      "Epoch: 213/14999 | Loss: 0.0003 | Episodes: 42 | Win count: 32 | Win rate: 1.000 | time: 17.30 minutes\n",
      "Reached 100% win rate at epoch: 213\n",
      "n_epoch: 213, max_mem: 512, data: 32, time: 17.31 minutes\n"
     ]
    },
    {
     "data": {
      "text/plain": [
       "1038.796334"
      ]
     },
     "execution_count": 44,
     "metadata": {},
     "output_type": "execute_result"
    }
   ],
   "source": [
    "model = build_model(maze)\n",
    "qtrain(model, maze, epochs=1000, max_memory=8*maze.size, data_size=32)"
   ]
  },
  {
   "cell_type": "markdown",
   "metadata": {},
   "source": [
    "This cell will check to see if the model passes the completion check. Note: This could take several minutes."
   ]
  },
  {
   "cell_type": "code",
   "execution_count": 45,
   "metadata": {},
   "outputs": [
    {
     "data": {
      "text/plain": [
       "<matplotlib.image.AxesImage at 0x200df0de248>"
      ]
     },
     "execution_count": 45,
     "metadata": {},
     "output_type": "execute_result"
    },
    {
     "data": {
      "image/png": "[encoded data removed]",
      "text/plain": [
       "<Figure size 432x288 with 1 Axes>"
      ]
     },
     "metadata": {
      "needs_background": "light"
     },
     "output_type": "display_data"
    }
   ],
   "source": [
    "completion_check(model, qmaze)\n",
    "show(qmaze)"
   ]
  },
  {
   "cell_type": "markdown",
   "metadata": {},
   "source": [
    "This cell will test your model for one game. It will start the pirate at the top-left corner and run play_game. The agent should find a path from the starting position to the target (treasure). The treasure is located in the bottom-right corner."
   ]
  },
  {
   "cell_type": "code",
   "execution_count": 46,
   "metadata": {},
   "outputs": [
    {
     "data": {
      "text/plain": [
       "<matplotlib.image.AxesImage at 0x200da06e488>"
      ]
     },
     "execution_count": 46,
     "metadata": {},
     "output_type": "execute_result"
    },
    {
     "data": {
      "image/png": "[encoded data removed]",
      "text/plain": [
       "<Figure size 432x288 with 1 Axes>"
      ]
     },
     "metadata": {
      "needs_background": "light"
     },
     "output_type": "display_data"
    }
   ],
   "source": [
    "pirate_start = (0, 0)\n",
    "play_game(model, qmaze, pirate_start)\n",
    "show(qmaze)"
   ]
  },
  {
   "cell_type": "markdown",
   "metadata": {},
   "source": [
    "## Save and Submit Your Work\n",
    "After you have finished creating the code for your notebook, save your work. Make sure that your notebook contains your name in the filename (e.g. Doe_Jane_ProjectTwo.ipynb). This will help your instructor access and grade your work easily. Download a copy of your IPYNB file and submit it to Brightspace. Refer to the Jupyter Notebook in Apporto Tutorial if you need help with these tasks."
   ]
  }
 ],
 "metadata": {
  "kernelspec": {
   "display_name": "Python 3",
   "language": "python",
   "name": "python3"
  },
  "language_info": {
   "codemirror_mode": {
    "name": "ipython",
    "version": 3
   },
   "file_extension": ".py",
   "mimetype": "text/x-python",
   "name": "python",
   "nbconvert_exporter": "python",
   "pygments_lexer": "ipython3",
   "version": "3.7.4"
  }
 },
 "nbformat": 4,
 "nbformat_minor": 2
}
